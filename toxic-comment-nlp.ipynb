{
 "cells": [
  {
   "cell_type": "markdown",
   "metadata": {},
   "source": [
    "## Data Exploration"
   ]
  },
  {
   "cell_type": "code",
   "execution_count": 59,
   "metadata": {},
   "outputs": [
    {
     "data": {
      "text/plain": [
       "<Figure size 432x288 with 0 Axes>"
      ]
     },
     "metadata": {},
     "output_type": "display_data"
    }
   ],
   "source": [
    "import data_loader\n",
    "import matplotlib.pyplot as plt\n",
    "import seaborn as sns\n",
    "import pandas as pd\n",
    "import numpy as np\n",
    "from nltk.corpus import stopwords\n",
    "import string\n",
    "from keras.preprocessing.text import Tokenizer\n",
    "from keras.preprocessing.sequence import pad_sequences\n",
    "from nltk.stem.wordnet import WordNetLemmatizer\n",
    "import warnings\n",
    "warnings.filterwarnings('ignore')\n",
    "%matplotlib inline\n",
    "plt.set_cmap('RdYlBu')\n",
    "\n",
    "train, valid = data_loader.load_train_data('dataset/train.csv')\n",
    "test = data_loader.load_test_data('dataset/test.csv','dataset/test_labels.csv')\n",
    "\n",
    "train = train.fillna('')\n",
    "valid = valid.fillna('')\n",
    "test = test.fillna('')"
   ]
  },
  {
   "cell_type": "code",
   "execution_count": 16,
   "metadata": {},
   "outputs": [
    {
     "name": "stdout",
     "output_type": "stream",
     "text": [
      "(143645, 8)\n",
      "(15926, 8)\n",
      "(63978, 8)\n"
     ]
    }
   ],
   "source": [
    "print(train.shape)\n",
    "print(valid.shape)\n",
    "print(test.shape)"
   ]
  },
  {
   "cell_type": "code",
   "execution_count": 18,
   "metadata": {},
   "outputs": [
    {
     "name": "stdout",
     "output_type": "stream",
     "text": [
      "id               object\n",
      "comment_text     object\n",
      "toxic             int64\n",
      "severe_toxic      int64\n",
      "obscene           int64\n",
      "threat            int64\n",
      "insult            int64\n",
      "identity_hate     int64\n",
      "dtype: object\n"
     ]
    }
   ],
   "source": [
    "print(train.dtypes)"
   ]
  },
  {
   "cell_type": "code",
   "execution_count": 21,
   "metadata": {},
   "outputs": [
    {
     "name": "stdout",
     "output_type": "stream",
     "text": [
      "                      id                                       comment_text  \\\n",
      "130060  b7bf5a6846bd456a  \"\\n Oppose. WP:MOSTM, the guideline covering t...   \n",
      "132921  c70efd55724be549            === I AM GLEN AND I LOVE BEING A FAG===   \n",
      "46589   7c7f688f129e511e  \"\\n\\nIf it happens it may be worth noting but ...   \n",
      "129843  b68d08319e5fcb14        }}\\n{{WikiProject Elections and Referendums   \n",
      "2528    06bf9f58011ca46a  \"\\n\\nI posted a thread about Donny on WP:ANI  ...   \n",
      "\n",
      "        toxic  severe_toxic  obscene  threat  insult  identity_hate  \n",
      "130060      0             0        0       0       0              0  \n",
      "132921      1             0        0       0       0              0  \n",
      "46589       0             0        0       0       0              0  \n",
      "129843      0             0        0       0       0              0  \n",
      "2528        0             0        0       0       0              0  \n"
     ]
    }
   ],
   "source": [
    "print(train[0:5])"
   ]
  },
  {
   "cell_type": "code",
   "execution_count": 75,
   "metadata": {},
   "outputs": [
    {
     "name": "stdout",
     "output_type": "stream",
     "text": [
      "Train samples with no label: 129006\n",
      "Train samples with atleast one label: 14639\n",
      "Train samples with 2 or more labels 8941\n"
     ]
    }
   ],
   "source": [
    "# counting frequency of occurence of multi-labelled data\n",
    "# ct0 -> counts samples with no label\n",
    "# ct1 -> counts samples having atleast one label\n",
    "# ct2 -> counts samples having 2 or more than 2 labels\n",
    "ct0,ct1,ct2 = 0,0,0\n",
    "label = train[['toxic', 'severe_toxic' , 'obscene' , 'threat' , 'insult' , 'identity_hate']]\n",
    "label = label.as_matrix()\n",
    "for i in range(label.shape[0]):\n",
    "    ct = np.count_nonzero(label[i])\n",
    "    if ct :\n",
    "        ct1 = ct1+1\n",
    "    else:\n",
    "        ct0 = ct0+1\n",
    "    if ct>1 :\n",
    "        ct2 = ct2+1\n",
    "print(\"Train samples with no label:\", ct0)\n",
    "print(\"Train samples with atleast one label:\", ct1)\n",
    "print(\"Train samples with 2 or more labels\", ct2)"
   ]
  },
  {
   "cell_type": "code",
   "execution_count": 53,
   "metadata": {},
   "outputs": [
    {
     "name": "stderr",
     "output_type": "stream",
     "text": [
      "100%|██████████| 143645/143645 [00:01<00:00, 94410.91it/s]\n"
     ]
    },
    {
     "name": "stdout",
     "output_type": "stream",
     "text": [
      "9655027 words.\n",
      "496117 unique words.\n",
      "10 Most common words in the dataset:\n",
      "\"the\" \"to\" \"of\" \"and\" \"a\" \"I\" \"is\" \"you\" \"that\" \"in\"\n"
     ]
    }
   ],
   "source": [
    "# Explore the vocabulary\n",
    "import collections\n",
    "from tqdm import tqdm\n",
    "\n",
    "x_train = train.comment_text.copy()\n",
    "# Create a counter object for each dataset\n",
    "word_counter = collections.Counter([word for sentence in tqdm(x_train, total=len(x_train)) \\\n",
    "                                                              for word in sentence.split()])\n",
    "\n",
    "print('{} words.'.format(len([word for sentence in x_train for word in sentence.split()])))\n",
    "print('{} unique words.'.format(len(word_counter)))\n",
    "print('10 Most common words in the dataset:')\n",
    "print('\"' + '\" \"'.join(list(zip(*word_counter.most_common(10)))[0]) + '\"')"
   ]
  },
  {
   "cell_type": "markdown",
   "metadata": {},
   "source": [
    "One problem here is that we are counting uppercase words as different from lower case words and a bunch of other symbols that aren't really useful for our goal. A data cleanup will be done in the next step."
   ]
  },
  {
   "cell_type": "code",
   "execution_count": 76,
   "metadata": {},
   "outputs": [
    {
     "name": "stdout",
     "output_type": "stream",
     "text": [
      "average length of comment: 393.746\n"
     ]
    },
    {
     "data": {
      "image/png": "[encoded data removed]",
      "text/plain": [
       "<Figure size 432x288 with 1 Axes>"
      ]
     },
     "metadata": {
      "needs_background": "light"
     },
     "output_type": "display_data"
    }
   ],
   "source": [
    "# visualizing the comment size\n",
    "comment = train['comment_text']\n",
    "comment = comment.as_matrix()\n",
    "x = [len(comment[i]) for i in range(comment.shape[0])]\n",
    "print('average length of comment: {:.3f}'.format(sum(x)/len(x)) )\n",
    "bins = [1,200,400,600,800,1000,1200]\n",
    "plt.hist(x, bins=bins)\n",
    "plt.xlabel('Length of comments')\n",
    "plt.ylabel('Number of comments')       \n",
    "plt.axis([0, 1200, 0, 90000])\n",
    "plt.grid(True)\n",
    "plt.show()"
   ]
  },
  {
   "cell_type": "code",
   "execution_count": 66,
   "metadata": {},
   "outputs": [
    {
     "data": {
      "image/png": "[encoded data removed]",
      "text/plain": [
       "<Figure size 648x432 with 1 Axes>"
      ]
     },
     "metadata": {
      "needs_background": "light"
     },
     "output_type": "display_data"
    }
   ],
   "source": [
    "# visualizing the no. of comments of each category\n",
    "palette= sns.color_palette(\"bright\")\n",
    "x=train.iloc[:,2:].sum()\n",
    "plt.figure(figsize=(9,6))\n",
    "ax= sns.barplot(x.index, x.values, palette=palette)\n",
    "plt.title(\"Class\")\n",
    "plt.ylabel('Occurrences', fontsize=12)\n",
    "plt.xlabel('Type ')\n",
    "rects = ax.patches\n",
    "labels = x.values\n",
    "for rect, label in zip(rects, labels):\n",
    "    height = rect.get_height()\n",
    "    ax.text(rect.get_x() + rect.get_width()/2, height + 10, label, \n",
    "            ha='center', va='bottom')\n",
    "\n",
    "plt.show()"
   ]
  },
  {
   "cell_type": "code",
   "execution_count": 80,
   "metadata": {},
   "outputs": [
    {
     "data": {
      "image/png": "[encoded data removed]",
      "text/plain": [
       "<Figure size 432x288 with 1 Axes>"
      ]
     },
     "metadata": {
      "needs_background": "light"
     },
     "output_type": "display_data"
    }
   ],
   "source": [
    "# No. of comments of each type grouped by lengths\n",
    "y = np.zeros(label.shape)\n",
    "for ix in range(comment.shape[0]):\n",
    "    l = len(comment[ix])\n",
    "    if label[ix][0] :\n",
    "        y[ix][0] = l\n",
    "    if label[ix][1] :\n",
    "        y[ix][1] = l\n",
    "    if label[ix][2] :\n",
    "        y[ix][2] = l\n",
    "    if label[ix][3] :\n",
    "        y[ix][3] = l\n",
    "    if label[ix][4] :\n",
    "        y[ix][4] = l\n",
    "    if label[ix][5] :\n",
    "        y[ix][5] = l\n",
    "\n",
    "labelsplt = ['toxic','severe_toxic','obscene','threat','insult','identity_hate']\n",
    "color = ['red','green','blue','yellow','orange','chartreuse']        \n",
    "plt.hist(y,bins = bins,label = labelsplt,color = color)\n",
    "plt.axis([0, 1200, 0, 10000])\n",
    "plt.xlabel('Length of comments')\n",
    "plt.ylabel('Number of comments') \n",
    "plt.legend()\n",
    "plt.grid(True)\n",
    "plt.show()"
   ]
  },
  {
   "cell_type": "code",
   "execution_count": 117,
   "metadata": {},
   "outputs": [
    {
     "data": {
      "text/plain": [
       "<matplotlib.axes._subplots.AxesSubplot at 0x1a43f3d7b8>"
      ]
     },
     "execution_count": 117,
     "metadata": {},
     "output_type": "execute_result"
    },
    {
     "data": {
      "image/png": "[encoded data removed]",
      "text/plain": [
       "<Figure size 720x576 with 2 Axes>"
      ]
     },
     "metadata": {
      "needs_background": "light"
     },
     "output_type": "display_data"
    }
   ],
   "source": [
    "# correlation matrix between features\n",
    "f, ax = plt.subplots(figsize=(10, 8))\n",
    "corr = train.corr()\n",
    "sns.heatmap(corr, mask=np.zeros_like(corr, dtype=np.bool),\n",
    "            square=True, ax=ax, annot=True)"
   ]
  },
  {
   "cell_type": "code",
   "execution_count": null,
   "metadata": {},
   "outputs": [],
   "source": [
    "\"\"\"this function receives comments and returns clean word-list\n",
    "  split words by whitespace, remove punctuations, change letters to lower case, \n",
    "  remove words that are not alphanumeric, remove 1-letter words\n",
    "\"\"\"\n",
    "def pre_process(word_text):\n",
    "    tokens = word_text.split()\n",
    "    table = str.maketrans({key: None for key in string.punctuation})\n",
    "    tokens = [token.translate(table) for token in tokens]\n",
    "    tokens = [token for token in tokens if token.isalpha()]\n",
    "    tokens = [token.lower() for token in tokens]\n",
    "    stop_words = set(stopwords.words('english'))\n",
    "    tokens = [token for token in tokens if token not in stop_words]\n",
    "    tokens = [token for token in tokens if len(token) > 1]\n",
    "    lem = WordNetLemmatizer()\n",
    "    tokens = [lem.lemmatize(token,\"v\") for token in tokens]\n",
    "    sentence = ' '.join(tokens)\n",
    "    return sentence"
   ]
  },
  {
   "cell_type": "code",
   "execution_count": 86,
   "metadata": {},
   "outputs": [],
   "source": [
    "\"\"\"clean comment_text from the training set and testing set\"\"\"\n",
    "train_comment_text = train.comment_text.copy()\n",
    "valid_comment_text = valid.comment_text.copy()\n",
    "test_comment_text = test.comment_text.copy()\n",
    "\n",
    "train_text_processed = [pre_process(comment) for comment in train_comment_text]\n",
    "valid_text_processed = [pre_process(comment) for comment in valid_comment_text]\n",
    "test_text_processed = [pre_process(comment) for comment in test_comment_text]"
   ]
  },
  {
   "cell_type": "code",
   "execution_count": 87,
   "metadata": {},
   "outputs": [
    {
     "name": "stdout",
     "output_type": "stream",
     "text": [
      "The 0th comment text in unprocessed training set:\n",
      "\"\n",
      " Oppose. WP:MOSTM, the guideline covering trademarks and brands, explicitly states not to do this. We don't need articles with titles like REALTOR, TIME, Se7en, Alien³, etc., despite those being their \"\"official\"\" names: these are brandings, and are designed to promote their products. But Wikipedia is not supposed to be promotional. NBC, CBS, and ABC are actual abbreviations, and are pronounced en-bee-cee, cee-bee-ess, ay-bee-cee. A reader who is truly unfamiliar with Fox in this context will end up pronouncing it \"\"eff-oh-ecks\"\".  \"\n",
      "\n",
      "\n",
      "The 0th comment text in clean training set:\n",
      "oppose wpmostm guideline cover trademark brand explicitly state dont need article title like realtor time etc despite official name brand design promote products wikipedia suppose promotional nbc cbs abc actual abbreviations pronounce enbeecee ceebeeess aybeecee reader truly unfamiliar fox context end pronounce effohecks\n",
      "\n",
      "\n",
      "The 0th comment text in unprocessed validation set:\n",
      "Risk factors\n",
      "\n",
      "The role of chlamydia should be discussed, as with the increasing ectopic pregnancy rate with the increasing chlamydia incidence.   IUDs have also been linked to increased ectopic pregnancy.\n",
      "\n",
      "\n",
      "The 0th comment text in clean validation set:\n",
      "risk factor role chlamydia discuss increase ectopic pregnancy rate increase chlamydia incidence iuds also link increase ectopic pregnancy\n",
      "\n",
      "\n",
      "The 0th comment text in unprocessed test set:\n",
      "Thank you for understanding. I think very highly of you and would not revert without discussion.\n",
      "\n",
      "\n",
      "The 0th comment text in clean test set:\n",
      "thank understand think highly would revert without discussion\n"
     ]
    }
   ],
   "source": [
    "print('The 0th comment text in unprocessed training set:')\n",
    "print(train_comment_text.iloc[0])\n",
    "print('\\n')\n",
    "print('The 0th comment text in clean training set:')\n",
    "print(train_text_processed[0])\n",
    "print('\\n')\n",
    "print('The 0th comment text in unprocessed validation set:')\n",
    "print(valid_comment_text.iloc[0])\n",
    "print('\\n')\n",
    "print('The 0th comment text in clean validation set:')\n",
    "print(valid_text_processed[0])\n",
    "print('\\n')\n",
    "print('The 0th comment text in unprocessed test set:')\n",
    "print(test_comment_text.iloc[0])\n",
    "print('\\n')\n",
    "print('The 0th comment text in clean test set:')\n",
    "print(test_text_processed[0])"
   ]
  },
  {
   "cell_type": "code",
   "execution_count": 91,
   "metadata": {},
   "outputs": [],
   "source": [
    "df_train = pd.DataFrame(data={\"comment_text\": train_text_processed})\n",
    "df_train.to_csv(\"dataset/cleaned_train.csv\", sep=',',index=False)\n",
    "\n",
    "df_valid = pd.DataFrame(data={\"comment_text\": valid_text_processed})\n",
    "df_valid.to_csv(\"dataset/cleaned_valid.csv\", sep=',',index=False)\n",
    "\n",
    "df_test = pd.DataFrame(data={\"comment_text\": test_text_processed})\n",
    "df_test.to_csv(\"dataset/cleaned_test.csv\", sep=',',index=False)"
   ]
  },
  {
   "cell_type": "markdown",
   "metadata": {},
   "source": [
    "### Loading clean data, tokenizing and embedding"
   ]
  },
  {
   "cell_type": "code",
   "execution_count": 111,
   "metadata": {},
   "outputs": [],
   "source": [
    "# Loading clean data\n",
    "clean_train = pd.read_csv(\"dataset/cleaned_train.csv\").fillna('')\n",
    "clean_valid = pd.read_csv(\"dataset/cleaned_valid.csv\").fillna('')\n",
    "clean_test = pd.read_csv(\"dataset/cleaned_test.csv\").fillna('')\n",
    "\n",
    "clean_train_wordlist = clean_train.values.tolist()\n",
    "clean_valid_wordlist = clean_valid.values.tolist()\n",
    "\n",
    "clean_test_wordlist = clean_test.values.tolist()"
   ]
  },
  {
   "cell_type": "code",
   "execution_count": 114,
   "metadata": {},
   "outputs": [
    {
     "name": "stdout",
     "output_type": "stream",
     "text": [
      "Vocab size: 287514\n",
      "Longest comment size: 1250\n",
      "Average comment size: 33.820049427407845\n",
      "Stdev of comment size: 51.838657680743566\n",
      "Max comment size: 189\n",
      "\n",
      "Sequence 1\n",
      "  Input:  oppose wpmostm guideline cover trademark brand explicitly state dont need article title like realtor time etc despite official name brand design promote products wikipedia suppose promotional nbc cbs abc actual abbreviations pronounce enbeecee ceebeeess aybeecee reader truly unfamiliar fox context end pronounce effohecks\n",
      "  Output: [539, 39636, 959, 424, 4225, 1988, 1626, 62, 15, 26, 1, 197, 10, 29461, 25, 224, 894, 412, 29, 1988, 854, 674, 1919, 4, 486, 1790, 7128, 4914, 4019, 553, 8236, 2405, 108996, 108997, 108998, 801, 1253, 4332, 2305, 554, 239, 2405, 108999]\n",
      "Sequence 2\n",
      "  Input:  glen love fag\n",
      "  Output: [8144, 291, 644]\n"
     ]
    }
   ],
   "source": [
    "# Tokenize and Pad\n",
    "\n",
    "# Create tokenizer\n",
    "tokenizer = Tokenizer()\n",
    "\n",
    "# Fit and run tokenizer\n",
    "tokenizer.fit_on_texts(train_text_processed + valid_text_processed  + test_text_processed)\n",
    "tokenized_train = tokenizer.texts_to_sequences(train_text_processed)\n",
    "tokenized_valid = tokenizer.texts_to_sequences(valid_text_processed)\n",
    "tokenized_test = tokenizer.texts_to_sequences(test_text_processed)\n",
    "word_index = tokenizer.word_index\n",
    "\n",
    "# Extract variables\n",
    "vocab_size = len(word_index)\n",
    "print('Vocab size: {}'.format(vocab_size))\n",
    "longest = max(len(seq) for seq in tokenized_train)\n",
    "print(\"Longest comment size: {}\".format(longest))\n",
    "average = np.mean([len(seq) for seq in tokenized_train])\n",
    "print(\"Average comment size: {}\".format(average))\n",
    "stdev = np.std([len(seq) for seq in tokenized_train])\n",
    "print(\"Stdev of comment size: {}\".format(stdev))\n",
    "max_len = int(average + stdev * 3)\n",
    "print('Max comment size: {}'.format(max_len))\n",
    "print()\n",
    "\n",
    "# Pad sequences\n",
    "processed_X_train = pad_sequences(tokenized_train, maxlen=max_len, padding='post', truncating='post')\n",
    "processed_X_valid = pad_sequences(tokenized_valid, maxlen=max_len, padding='post', truncating='post')\n",
    "processed_X_test = pad_sequences(tokenized_test, maxlen=max_len, padding='post', truncating='post')\n",
    "\n",
    "# Sample tokenization\n",
    "for sample_i, (sent, token_sent) in enumerate(zip(train_text_processed[:2], tokenized_train[:2])):\n",
    "    print('Sequence {}'.format(sample_i + 1))\n",
    "    print('  Input:  {}'.format(sent))\n",
    "    print('  Output: {}'.format(token_sent))"
   ]
  },
  {
   "cell_type": "markdown",
   "metadata": {},
   "source": [
    "The data representation for our vocabulary is one-hot encoding where every word is transformed into a vector with a 1 in its corresponding location. For example, if our word vector is [hi, how, are, you] and the word we are looking at is \"you\", the input vector for \"you\" would just be [0, 0, 0, 1]. This works fine unless our vocabulary is huge - in this case, 210,000 - which means we would end up with word vectors that consist mainly of a bunch of 0s.\n",
    "\n",
    "Instead, we can use a Word2Vec technique to find continuous embeddings for our words. Here, we'll be using the pretrained FastText embeddings from Facebook to produce a 300-dimension vector for each word in our vocabulary.\n",
    "\n",
    "P. Bojanowski, E. Grave, A. Joulin, T. Mikolov, Enriching Word Vectors with Subword Information\n",
    "\n",
    "The benefit of this continuous embedding is that words with similar predictive power will appear closer together on our word vector. The downside is that this creates more of a black box where the words with the most predictive power get lost in the numbers."
   ]
  },
  {
   "cell_type": "markdown",
   "metadata": {},
   "source": [
    "#### Fasttext"
   ]
  },
  {
   "cell_type": "code",
   "execution_count": null,
   "metadata": {},
   "outputs": [],
   "source": [
    "embedding_dim = 300\n",
    "\n",
    "# Get embeddings\n",
    "embeddings_index = {}\n",
    "f = open('wiki.en.vec', encoding=\"utf8\")\n",
    "for line in f:\n",
    "    values = line.rstrip().rsplit(' ', embedding_dim)\n",
    "    word = values[0]\n",
    "    coefs = np.asarray(values[1:], dtype='float32')\n",
    "    embeddings_index[word] = coefs\n",
    "f.close()\n",
    "\n",
    "print('Found {} word vectors.'.format(len(embeddings_index)))"
   ]
  },
  {
   "cell_type": "code",
   "execution_count": null,
   "metadata": {},
   "outputs": [],
   "source": [
    "# Build embedding matrix\n",
    "embedding_matrix = np.zeros((len(word_index) + 1, embedding_dim))\n",
    "for word, i in word_index.items():\n",
    "    embedding_vector = embeddings_index.get(word)\n",
    "    if embedding_vector is not None:\n",
    "        # Words not found in embedding index will be all-zeros.\n",
    "        embedding_matrix[i] = embedding_vector"
   ]
  },
  {
   "cell_type": "code",
   "execution_count": null,
   "metadata": {},
   "outputs": [],
   "source": [
    "# Save embeddings\n",
    "import h5py\n",
    "with h5py.File('embeddings.h5', 'w') as hf:\n",
    "    hf.create_dataset(\"fasttext\",  data=embedding_matrix)"
   ]
  },
  {
   "cell_type": "code",
   "execution_count": null,
   "metadata": {},
   "outputs": [],
   "source": [
    "# Load embeddings\n",
    "with h5py.File('embeddings.h5', 'r') as hf:\n",
    "    embedding_matrix = hf['fasttext'][:]"
   ]
  },
  {
   "cell_type": "code",
   "execution_count": null,
   "metadata": {},
   "outputs": [],
   "source": []
  },
  {
   "cell_type": "code",
   "execution_count": null,
   "metadata": {},
   "outputs": [],
   "source": []
  }
 ],
 "metadata": {
  "kernelspec": {
   "display_name": "Python 3",
   "language": "python",
   "name": "python3"
  },
  "language_info": {
   "codemirror_mode": {
    "name": "ipython",
    "version": 3
   },
   "file_extension": ".py",
   "mimetype": "text/x-python",
   "name": "python",
   "nbconvert_exporter": "python",
   "pygments_lexer": "ipython3",
   "version": "3.6.8"
  }
 },
 "nbformat": 4,
 "nbformat_minor": 2
}
